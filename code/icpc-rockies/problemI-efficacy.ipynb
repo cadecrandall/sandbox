{
 "cells": [
  {
   "cell_type": "code",
   "execution_count": 45,
   "metadata": {},
   "outputs": [
    {
     "name": "stdout",
     "output_type": "stream",
     "text": [
      "8\n",
      "NYYY\n",
      "NYYY\n",
      "NYYY\n",
      "NYYY\n",
      "YNNN\n",
      "YNNN\n",
      "YNNN\n",
      "YNNN\n"
     ]
    },
    {
     "ename": "ZeroDivisionError",
     "evalue": "float division by zero",
     "output_type": "error",
     "traceback": [
      "\u001b[0;31m---------------------------------------------------------------------------\u001b[0m",
      "\u001b[0;31mZeroDivisionError\u001b[0m                         Traceback (most recent call last)",
      "\u001b[0;32m<ipython-input-45-069ae121be54>\u001b[0m in \u001b[0;36m<module>\u001b[0;34m\u001b[0m\n\u001b[1;32m     80\u001b[0m         \u001b[0mprint\u001b[0m\u001b[0;34m(\u001b[0m\u001b[0;34m\"Not Effective\"\u001b[0m\u001b[0;34m)\u001b[0m\u001b[0;34m\u001b[0m\u001b[0;34m\u001b[0m\u001b[0m\n\u001b[1;32m     81\u001b[0m     \u001b[0;32melse\u001b[0m\u001b[0;34m:\u001b[0m\u001b[0;34m\u001b[0m\u001b[0;34m\u001b[0m\u001b[0m\n\u001b[0;32m---> 82\u001b[0;31m         \u001b[0mnum\u001b[0m \u001b[0;34m=\u001b[0m \u001b[0;34m(\u001b[0m\u001b[0mvax\u001b[0m \u001b[0;34m-\u001b[0m \u001b[0munvax\u001b[0m\u001b[0;34m)\u001b[0m\u001b[0;34m*\u001b[0m\u001b[0;36m100\u001b[0m\u001b[0;34m/\u001b[0m\u001b[0mvax\u001b[0m\u001b[0;34m\u001b[0m\u001b[0;34m\u001b[0m\u001b[0m\n\u001b[0m\u001b[1;32m     83\u001b[0m         \u001b[0mprint\u001b[0m\u001b[0;34m(\u001b[0m\u001b[0;34m\"{:.6f}\"\u001b[0m\u001b[0;34m.\u001b[0m\u001b[0mformat\u001b[0m\u001b[0;34m(\u001b[0m\u001b[0mnum\u001b[0m\u001b[0;34m)\u001b[0m\u001b[0;34m)\u001b[0m\u001b[0;34m\u001b[0m\u001b[0;34m\u001b[0m\u001b[0m\n",
      "\u001b[0;31mZeroDivisionError\u001b[0m: float division by zero"
     ]
    }
   ],
   "source": [
    "# Grab data\n",
    "n = int(input())   # number of participants\n",
    "\n",
    "class Participant:\n",
    "    def __init__(self, string):\n",
    "        self.is_vaccinated = False\n",
    "        self.strain_a = False\n",
    "        self.strain_b = False\n",
    "        self.strain_c = False\n",
    "        \n",
    "        if string[0] == 'Y':\n",
    "            self.is_vaccinated = True\n",
    "        \n",
    "        if string[1] == 'Y':\n",
    "            self.strain_a = True\n",
    "        \n",
    "        if string[2] == 'Y':\n",
    "            self.strain_b = True\n",
    "        \n",
    "        if string[3] == 'Y':\n",
    "            self.strain_c = True\n",
    "    \n",
    "    def __str__(self):\n",
    "        return f'is_vaccinated: {self.is_vaccinated} \\n is_strain_a: {self.strain_a} \\n is_strain_b: {self.strain_b} \\n is_strain_c: {self.strain_c}'\n",
    "        \n",
    "participants = []\n",
    "for i in range(n):\n",
    "    string = input()\n",
    "    participants.append(Participant(string))\n",
    "    \n",
    "vaccinated = 0\n",
    "vaccinated_a = 0\n",
    "vaccinated_b = 0\n",
    "vaccinated_c = 0\n",
    "\n",
    "control = 0\n",
    "control_a = 0\n",
    "control_b = 0\n",
    "control_c = 0\n",
    "\n",
    "for p in participants:\n",
    "    if p.is_vaccinated:\n",
    "        vaccinated += 1\n",
    "        if p.strain_a:\n",
    "            vaccinated_a += 1\n",
    "        if p.strain_b:\n",
    "            vaccinated_b += 1\n",
    "        if p.strain_c:\n",
    "            vaccinated_c += 1\n",
    "    else:\n",
    "        control += 1\n",
    "        if p.strain_a:\n",
    "            control_a += 1\n",
    "        if p.strain_b:\n",
    "            control_b += 1\n",
    "        if p.strain_c:\n",
    "            control_c += 1\n",
    "        \n",
    "    \n",
    "# Calculate stats\n",
    "\n",
    "stats = []\n",
    "vaccine_a_infected = vaccinated_a/vaccinated\n",
    "control_a_infected = control_a/control\n",
    "stats.append([vaccine_a_infected, control_a_infected])\n",
    "\n",
    "vaccine_b_infected = vaccinated_b/vaccinated\n",
    "control_b_infected = control_b/control\n",
    "stats.append([vaccine_b_infected, control_b_infected])\n",
    "\n",
    "\n",
    "vaccine_c_infected = vaccinated_c/vaccinated\n",
    "control_c_infected = control_c/control\n",
    "stats.append([vaccine_c_infected, control_c_infected])\n",
    "\n",
    "for stat in stats:\n",
    "    vax = stat[0]\n",
    "    unvax = stat[1]\n",
    "    if vax >= unvax:\n",
    "        print(\"Not Effective\")\n",
    "    else:\n",
    "        num = (unvax - vax)*100/unvax\n",
    "        print(\"{:.6f}\".format(num))"
   ]
  },
  {
   "cell_type": "code",
   "execution_count": 46,
   "metadata": {},
   "outputs": [
    {
     "name": "stdout",
     "output_type": "stream",
     "text": [
      "100.000000\n",
      "100.000000\n",
      "100.000000\n"
     ]
    }
   ],
   "source": [
    "for stat in stats:\n",
    "    vax = stat[0]\n",
    "    unvax = stat[1]\n",
    "    if vax >= unvax:\n",
    "        print(\"Not Effective\")\n",
    "    else:\n",
    "        num = (unvax - vax)*100/unvax\n",
    "        print(\"{:.6f}\".format(num))"
   ]
  },
  {
   "cell_type": "code",
   "execution_count": null,
   "metadata": {},
   "outputs": [],
   "source": []
  }
 ],
 "metadata": {
  "kernelspec": {
   "display_name": "Python 3",
   "language": "python",
   "name": "python3"
  },
  "language_info": {
   "codemirror_mode": {
    "name": "ipython",
    "version": 3
   },
   "file_extension": ".py",
   "mimetype": "text/x-python",
   "name": "python",
   "nbconvert_exporter": "python",
   "pygments_lexer": "ipython3",
   "version": "3.8.3"
  }
 },
 "nbformat": 4,
 "nbformat_minor": 4
}
