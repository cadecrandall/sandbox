{
 "cells": [
  {
   "cell_type": "code",
   "execution_count": 14,
   "metadata": {},
   "outputs": [
    {
     "name": "stdout",
     "output_type": "stream",
     "text": [
      "4\n",
      "0\n",
      "2\n",
      "104\n",
      "117\n"
     ]
    }
   ],
   "source": [
    "# Get data input\n",
    "n = int(input())\n",
    "button_times = []\n",
    "for i in range(n):\n",
    "    button_times.append(int(input()))\n",
    "\n"
   ]
  },
  {
   "cell_type": "code",
   "execution_count": 15,
   "metadata": {},
   "outputs": [
    {
     "name": "stdout",
     "output_type": "stream",
     "text": [
      "15\n"
     ]
    }
   ],
   "source": [
    "# Initial conditions\n",
    "is_running = False\n",
    "timer = 0\n",
    "\n",
    "for i, time in enumerate(button_times):\n",
    "    if is_running: \n",
    "        is_running = False\n",
    "        timer += (time - button_times[i-1])\n",
    "    else:\n",
    "        is_running = True\n",
    "\n",
    "if is_running:\n",
    "    print(\"still running\")\n",
    "else:\n",
    "    print(timer)"
   ]
  },
  {
   "cell_type": "code",
   "execution_count": 11,
   "metadata": {},
   "outputs": [
    {
     "data": {
      "text/plain": [
       "4"
      ]
     },
     "execution_count": 11,
     "metadata": {},
     "output_type": "execute_result"
    }
   ],
   "source": []
  },
  {
   "cell_type": "code",
   "execution_count": null,
   "metadata": {},
   "outputs": [],
   "source": []
  }
 ],
 "metadata": {
  "kernelspec": {
   "display_name": "Python 3",
   "language": "python",
   "name": "python3"
  },
  "language_info": {
   "codemirror_mode": {
    "name": "ipython",
    "version": 3
   },
   "file_extension": ".py",
   "mimetype": "text/x-python",
   "name": "python",
   "nbconvert_exporter": "python",
   "pygments_lexer": "ipython3",
   "version": "3.8.3"
  }
 },
 "nbformat": 4,
 "nbformat_minor": 4
}
