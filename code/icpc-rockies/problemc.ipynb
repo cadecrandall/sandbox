{
 "cells": [
  {
   "cell_type": "code",
   "execution_count": 1,
   "metadata": {},
   "outputs": [
    {
     "name": "stdout",
     "output_type": "stream",
     "text": [
      "4 2 20\n",
      "19 17 11 7\n",
      "1 6\n",
      "4 2 20 [19, 17, 11, 7] [1, 6]\n"
     ]
    }
   ],
   "source": [
    "#grab input\n",
    "folds, cuts, l = map(int, input().split())\n",
    "fold_locations = list(map(int, input().split()))\n",
    "cut_locations = list(map(int, input().split()))"
   ]
  },
  {
   "cell_type": "code",
   "execution_count": null,
   "metadata": {},
   "outputs": [],
   "source": []
  }
 ],
 "metadata": {
  "kernelspec": {
   "display_name": "Python 3",
   "language": "python",
   "name": "python3"
  },
  "language_info": {
   "codemirror_mode": {
    "name": "ipython",
    "version": 3
   },
   "file_extension": ".py",
   "mimetype": "text/x-python",
   "name": "python",
   "nbconvert_exporter": "python",
   "pygments_lexer": "ipython3",
   "version": "3.8.3"
  }
 },
 "nbformat": 4,
 "nbformat_minor": 4
}
