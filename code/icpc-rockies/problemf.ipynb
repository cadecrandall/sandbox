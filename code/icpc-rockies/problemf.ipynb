{
 "cells": [
  {
   "cell_type": "code",
   "execution_count": 47,
   "metadata": {},
   "outputs": [
    {
     "name": "stdout",
     "output_type": "stream",
     "text": [
      "6 5\n",
      "1 4\n",
      "3 4\n",
      "2 4\n",
      "6 3\n",
      "5 4\n",
      "2\n",
      "4\n",
      "1\n",
      "0\n",
      "10\n",
      "2\n"
     ]
    }
   ],
   "source": [
    "n_islands, n_bridges = map(int, input().split())\n",
    "\n",
    "\n",
    "class Node:\n",
    "    def __init__(self, island_number, army_size, nxt):\n",
    "        self.island_number = island_number\n",
    "        self.army_size = army_size\n",
    "        self.nxt = nxt\n",
    "        \n",
    "    def __str__(self):\n",
    "        return f'island: {self.island_number}, \\n army_size: {self.army_size}, \\n next: {str(self.nxt)}'\n",
    "    \n",
    "    def add_node(self, node):\n",
    "        self.nxt.append(node)\n",
    "        \n",
    "    def set_army(self, army_size):\n",
    "        self.army_size = army_size\n",
    "    \n",
    "nodes = [Node(i, 0, []) for i in range(1, n_islands + 1)]\n",
    "\n",
    "for i in range(bridges):\n",
    "    a, b = map(int, input().split())\n",
    "\n",
    "    # Add connection\n",
    "    nodes[a-1].add_node(nodes[b-1])\n",
    "    nodes[b-1].add_node(nodes[a-1])\n",
    "    \n",
    "for j in range(islands):\n",
    "    # Set army values\n",
    "    nodes[j].set_army(int(input()))"
   ]
  },
  {
   "cell_type": "code",
   "execution_count": 49,
   "metadata": {},
   "outputs": [
    {
     "name": "stdout",
     "output_type": "stream",
     "text": [
      "1 -> 4\n"
     ]
    },
    {
     "data": {
      "text/plain": [
       "[0]"
      ]
     },
     "execution_count": 49,
     "metadata": {},
     "output_type": "execute_result"
    }
   ],
   "source": [
    "def conquer(head, army_size, nodes, previous):\n",
    "    for node in head.nxt:\n",
    "        print(head.island_number, \"->\", node.island_number)\n",
    "        if army_size > node.army_size and node != previous:\n",
    "            # can only conquer smaller armies\n",
    "            army_size += node.army_size\n",
    "            node.army_size = 0\n",
    "            \n",
    "            # move to the next island\n",
    "            conquer(node, army_size, nodes, head)\n",
    "            return army_size\n",
    "        else:\n",
    "            return 0\n",
    "\n",
    "sizes = []\n",
    "head = nodes[0]\n",
    "army_size = head.army_size\n",
    "head.army_size = 0\n",
    "for node in head.nxt:\n",
    "    sizes.append(conquer(head, army_size, nodes, None))\n",
    "\n",
    "sizes"
   ]
  },
  {
   "cell_type": "code",
   "execution_count": null,
   "metadata": {},
   "outputs": [],
   "source": []
  }
 ],
 "metadata": {
  "kernelspec": {
   "display_name": "Python 3",
   "language": "python",
   "name": "python3"
  },
  "language_info": {
   "codemirror_mode": {
    "name": "ipython",
    "version": 3
   },
   "file_extension": ".py",
   "mimetype": "text/x-python",
   "name": "python",
   "nbconvert_exporter": "python",
   "pygments_lexer": "ipython3",
   "version": "3.8.3"
  }
 },
 "nbformat": 4,
 "nbformat_minor": 4
}
