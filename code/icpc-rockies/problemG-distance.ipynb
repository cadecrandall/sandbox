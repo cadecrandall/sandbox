{
 "cells": [
  {
   "cell_type": "code",
   "execution_count": 1,
   "metadata": {},
   "outputs": [],
   "source": [
    "def distance(a, b):\n",
    "    d1 = abs(a[0] - b[0])\n",
    "    d2 = abs(a[1] - b[1])\n",
    "    return d1 + d2\n"
   ]
  },
  {
   "cell_type": "code",
   "execution_count": 5,
   "metadata": {},
   "outputs": [
    {
     "name": "stdout",
     "output_type": "stream",
     "text": [
      "3\n",
      "1\n",
      "1\n",
      "4\n",
      "5\n",
      "2\n",
      "3\n"
     ]
    },
    {
     "data": {
      "text/plain": [
       "[[1, 1], [4, 5], [2, 3]]"
      ]
     },
     "execution_count": 5,
     "metadata": {},
     "output_type": "execute_result"
    }
   ],
   "source": [
    "# grab data\n",
    "n = int(input())\n",
    "trucks = []\n",
    "for i in range(n):\n",
    "    # TODO is this bad io\n",
    "    a = int(input())\n",
    "    b = int(input())\n",
    "    trucks.append([a, b])"
   ]
  },
  {
   "cell_type": "code",
   "execution_count": 14,
   "metadata": {},
   "outputs": [
    {
     "data": {
      "text/plain": [
       "14"
      ]
     },
     "execution_count": 14,
     "metadata": {},
     "output_type": "execute_result"
    }
   ],
   "source": [
    "import itertools\n",
    "d = 0\n",
    "for pair in itertools.combinations(trucks, r=2):\n",
    "    d += distance(pair[0], pair[1])\n",
    "    \n",
    "print(d)"
   ]
  },
  {
   "cell_type": "code",
   "execution_count": 15,
   "metadata": {},
   "outputs": [
    {
     "name": "stdout",
     "output_type": "stream",
     "text": [
      "3\n",
      "1\n",
      "1\n",
      "4\n",
      "5\n",
      "2\n",
      "3\n",
      "14\n"
     ]
    }
   ],
   "source": [
    "def distance(a, b):\n",
    "    d1 = abs(a[0] - b[0])\n",
    "    d2 = abs(a[1] - b[1])\n",
    "    return d1 + d2\n",
    "\n",
    "# grab data\n",
    "n = int(input())\n",
    "trucks = []\n",
    "for i in range(n):\n",
    "    # TODO is this bad io\n",
    "    a = int(input())\n",
    "    b = int(input())\n",
    "    trucks.append([a, b])\n",
    "\n",
    "import itertools\n",
    "d = 0\n",
    "for pair in itertools.combinations(trucks, r=2):\n",
    "    d += distance(pair[0], pair[1])\n",
    "    \n",
    "print(d)"
   ]
  },
  {
   "cell_type": "code",
   "execution_count": null,
   "metadata": {},
   "outputs": [],
   "source": []
  }
 ],
 "metadata": {
  "kernelspec": {
   "display_name": "Python 3",
   "language": "python",
   "name": "python3"
  },
  "language_info": {
   "codemirror_mode": {
    "name": "ipython",
    "version": 3
   },
   "file_extension": ".py",
   "mimetype": "text/x-python",
   "name": "python",
   "nbconvert_exporter": "python",
   "pygments_lexer": "ipython3",
   "version": "3.8.3"
  }
 },
 "nbformat": 4,
 "nbformat_minor": 4
}
