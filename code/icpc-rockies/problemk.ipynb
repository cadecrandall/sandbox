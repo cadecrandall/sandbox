{
 "cells": [
  {
   "cell_type": "code",
   "execution_count": null,
   "metadata": {},
   "outputs": [],
   "source": [
    "n, l, p = map(int, input().split())\n",
    "\n",
    "passengers = []\n",
    "for i in range(p):\n",
    "    passengers.append(int(input()))"
   ]
  },
  {
   "cell_type": "code",
   "execution_count": null,
   "metadata": {},
   "outputs": [],
   "source": [
    "doors = [l/2 + l*i for i in range(n)]\n"
   ]
  },
  {
   "cell_type": "code",
   "execution_count": null,
   "metadata": {
    "scrolled": true
   },
   "outputs": [],
   "source": [
    "from math import ceil, floor\n",
    "longest_distance = 0\n",
    "num_passengers = [0 for i in range(n)]\n",
    "\n",
    "for passenger in passengers:\n",
    "    car_number = passenger/l\n",
    "    if car_number > n:\n",
    "        car_number = n\n",
    "#     elif car_number % 1 == 0:\n",
    "#         # taking the higher numbered car in the case of a tie\n",
    "#         car_number = int(car_number + 1)\n",
    "#     elif car_number % 1 <= 0.5: # TODO < or <=\n",
    "#         car_number = ceil(car_number)\n",
    "#     else:\n",
    "#         car_number = floor(car_number)\n",
    "    d1 = abs(passenger-doors[ceil(car_number)])\n",
    "    d2 = abs(passenger-doors[floor(car_number)])\n",
    "\n",
    "    # taking the higher numbered car in the case of a tie\n",
    "    distance = d1 if d1 < d2 else d2\n",
    "    # Set car number\n",
    "    car_number = ceil(car_number) if distance == d1 else floor(car_number)\n",
    "    \n",
    "    # Check longest distance\n",
    "    longest_distance = distance if distance > longest_distance else longest_distance\n",
    "    \n",
    "    # Add car_number to cars\n",
    "    num_passengers[car_number - 1] += 1\n",
    "\n",
    "print(int(longest_distance))\n",
    "print(max(num_passengers))"
   ]
  },
  {
   "cell_type": "code",
   "execution_count": 14,
   "metadata": {},
   "outputs": [
    {
     "name": "stdout",
     "output_type": "stream",
     "text": [
      "7 90 10\n",
      "0\n",
      "50\n",
      "90\n",
      "135\n",
      "190\n",
      "350\n",
      "555\n",
      "590\n",
      "700\n",
      "1000\n"
     ]
    }
   ],
   "source": [
    "# GRAB INPUT\n",
    "n, l, p = map(int, input().split())\n",
    "\n",
    "passengers = []\n",
    "for i in range(p):\n",
    "    passengers.append(int(input()))\n",
    "    "
   ]
  },
  {
   "cell_type": "code",
   "execution_count": 21,
   "metadata": {},
   "outputs": [
    {
     "name": "stdout",
     "output_type": "stream",
     "text": [
      "P: 0 \n",
      " car IDX: 0\n",
      "P: 50 \n",
      " car IDX: 0\n",
      "P: 90 \n",
      " car IDX: 1\n",
      "P: 135 \n",
      " car IDX: 1\n",
      "P: 190 \n",
      " car IDX: 2\n",
      "P: 350 \n",
      " car IDX: 3\n",
      "P: 555 \n",
      " car IDX: 6\n",
      "P: 590 \n",
      " car IDX: 6\n",
      "P: 700 \n",
      " car IDX: 6\n",
      "P: 1000 \n",
      " car IDX: 6\n",
      "415\n",
      "4\n"
     ]
    }
   ],
   "source": [
    "n, l, p = map(int, input().split())\n",
    "\n",
    "passengers = []\n",
    "for i in range(p):\n",
    "    passengers.append(int(input()))\n",
    "    \n",
    "doors = [l/2 + l*i for i in range(n)]\n",
    "\n",
    "from math import ceil, floor\n",
    "longest_distance = 0\n",
    "num_passengers = [0 for i in range(n)]\n",
    "\n",
    "for passenger in passengers:\n",
    "    car_number = passenger/l\n",
    "    if car_number > n - 1:\n",
    "        car_number = n - 1\n",
    "    d1 = abs(passenger-doors[ceil(car_number)])\n",
    "    d2 = abs(passenger-doors[floor(car_number)])\n",
    "\n",
    "    # taking the higher numbered car in the case of a tie\n",
    "    distance = d1 if d1 < d2 else d2\n",
    "    # Set car number\n",
    "    car_number = ceil(car_number) if distance == d1 else floor(car_number)\n",
    "    \n",
    "    # Check longest distance\n",
    "    longest_distance = distance if distance > longest_distance else longest_distance\n",
    "    \n",
    "    # Add car_number to cars\n",
    "    num_passengers[car_number - 1] += 1\n",
    "    \n",
    "#     print(\"P:\", passenger, \"\\n car IDX:\", car_number)\n",
    "\n",
    "print(int(longest_distance))\n",
    "print(max(num_passengers))"
   ]
  },
  {
   "cell_type": "code",
   "execution_count": 20,
   "metadata": {},
   "outputs": [
    {
     "data": {
      "text/plain": [
       "6.166666666666667"
      ]
     },
     "execution_count": 20,
     "metadata": {},
     "output_type": "execute_result"
    }
   ],
   "source": [
    "car_number"
   ]
  },
  {
   "cell_type": "code",
   "execution_count": null,
   "metadata": {},
   "outputs": [],
   "source": []
  }
 ],
 "metadata": {
  "kernelspec": {
   "display_name": "Python 3",
   "language": "python",
   "name": "python3"
  },
  "language_info": {
   "codemirror_mode": {
    "name": "ipython",
    "version": 3
   },
   "file_extension": ".py",
   "mimetype": "text/x-python",
   "name": "python",
   "nbconvert_exporter": "python",
   "pygments_lexer": "ipython3",
   "version": "3.8.3"
  }
 },
 "nbformat": 4,
 "nbformat_minor": 4
}
