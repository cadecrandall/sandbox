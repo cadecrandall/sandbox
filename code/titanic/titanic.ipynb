{
 "cells": [
  {
   "cell_type": "code",
   "execution_count": 111,
   "metadata": {},
   "outputs": [],
   "source": [
    "import pandas as pd\n",
    "import numpy as np\n",
    "import matplotlib as mpl"
   ]
  },
  {
   "cell_type": "code",
   "execution_count": 137,
   "metadata": {},
   "outputs": [],
   "source": [
    "# Read in data and use dummies!\n",
    "\n",
    "df = pd.read_csv('./train.csv')\n",
    "dummies_sex = pd.get_dummies(df['Sex'])\n",
    "dummies_embarked = pd.get_dummies(df['Embarked'], prefix='embarked')\n",
    "\n",
    "df = pd.concat([df, dummies_sex, dummies_embarked], axis=1).drop(columns=['Sex', 'Embarked', 'Ticket'])"
   ]
  },
  {
   "cell_type": "code",
   "execution_count": 138,
   "metadata": {},
   "outputs": [
    {
     "name": "stdout",
     "output_type": "stream",
     "text": [
      "Pclass: 0\n",
      "SibSp: 0\n",
      "Parch: 0\n",
      "Fare: 0\n",
      "female: 0\n",
      "male: 0\n",
      "embarked_C: 0\n",
      "embarked_Q: 0\n",
      "embarked_S: 0\n"
     ]
    }
   ],
   "source": [
    "features = ['Pclass', 'SibSp', 'Parch', 'Fare', 'female', 'male', 'embarked_C', 'embarked_Q', 'embarked_S']\n",
    "target = 'Survived'\n",
    "\n",
    "# Count NaN values\n",
    "for feature in features:\n",
    "    print(f'{feature}: {df[feature].isna().sum()}')"
   ]
  },
  {
   "cell_type": "code",
   "execution_count": 139,
   "metadata": {},
   "outputs": [],
   "source": [
    "# from sklearn.model_selection import train_test_split\n",
    "# train, test = train_test_split(df, test_size=0.2)"
   ]
  },
  {
   "cell_type": "code",
   "execution_count": 201,
   "metadata": {},
   "outputs": [
    {
     "name": "stdout",
     "output_type": "stream",
     "text": [
      "Pclass: 0\n",
      "SibSp: 0\n",
      "Parch: 0\n",
      "Fare: 1\n",
      "female: 0\n",
      "male: 0\n",
      "embarked_C: 0\n",
      "embarked_Q: 0\n",
      "embarked_S: 0\n"
     ]
    },
    {
     "data": {
      "text/plain": [
       "PassengerId      0\n",
       "Pclass           0\n",
       "Name             0\n",
       "Age             86\n",
       "SibSp            0\n",
       "Parch            0\n",
       "Fare             0\n",
       "Cabin          327\n",
       "female           0\n",
       "male             0\n",
       "embarked_C       0\n",
       "embarked_Q       0\n",
       "embarked_S       0\n",
       "dtype: int64"
      ]
     },
     "execution_count": 201,
     "metadata": {},
     "output_type": "execute_result"
    }
   ],
   "source": [
    "test = pd.read_csv('./test.csv')\n",
    "\n",
    "dummies_sex = pd.get_dummies(test['Sex'])\n",
    "dummies_embarked = pd.get_dummies(test['Embarked'], prefix='embarked')\n",
    "\n",
    "test = pd.concat([test, dummies_sex, dummies_embarked], axis=1).drop(columns=['Sex', 'Embarked', 'Ticket'])\n",
    "\n",
    "for feature in features:\n",
    "    print(f'{feature}: {test[feature].isna().sum()}')\n",
    "\n",
    "pclass3_mean = test[test['Pclass'] == 3]['Fare'].mean()\n",
    "test[test['Fare'].isna()]\n",
    "\n",
    "test['Fare'] = test['Fare'].fillna(pclass3_mean)\n",
    "test.isna().sum()"
   ]
  },
  {
   "cell_type": "code",
   "execution_count": null,
   "metadata": {},
   "outputs": [],
   "source": []
  },
  {
   "cell_type": "code",
   "execution_count": 207,
   "metadata": {},
   "outputs": [],
   "source": [
    "# Model test func\n",
    "\n",
    "def test_model(train, test, model, features, target, scores_on=True):\n",
    "    model.fit(train[features], train[target])\n",
    "    y_hat = model.predict(test[features])\n",
    "    \n",
    "    \n",
    "    if scores_on:\n",
    "        train_score = model.score(train[features], train[target])\n",
    "        test_score = model.score(test[features], test[target])\n",
    "\n",
    "        print(\"The training score is:\", train_score)\n",
    "        print(\"The testing  score is:\", test_score)\n",
    "    \n",
    "    else:\n",
    "        return y_hat\n",
    "    "
   ]
  },
  {
   "cell_type": "code",
   "execution_count": 208,
   "metadata": {},
   "outputs": [],
   "source": [
    "# Random Forest classifier\n",
    "from sklearn.ensemble import RandomForestClassifier\n",
    "rfc = RandomForestClassifier(max_depth=4)\n",
    "\n",
    "test_model(train, test, rfc, features, target, scores_on=False)\n",
    "\n",
    "test['Survived'] = y_hat\n",
    "test[['PassengerId', 'Survived']].to_csv('./rfc_sol.csv')"
   ]
  },
  {
   "cell_type": "code",
   "execution_count": 209,
   "metadata": {},
   "outputs": [],
   "source": [
    "# kNN classifier\n",
    "from sklearn.neighbors import KNeighborsClassifier\n",
    "k = 5\n",
    "\n",
    "knn = KNeighborsClassifier(k)\n",
    "test_model(train, test, knn, features, target, scores_on=False)\n",
    "\n",
    "test['Survived'] = y_hat\n",
    "test[['PassengerId', 'Survived']].to_csv('./knn_sol.csv')"
   ]
  },
  {
   "cell_type": "code",
   "execution_count": 210,
   "metadata": {},
   "outputs": [],
   "source": [
    "# Gaussian Naive Bayes classifier\n",
    "from sklearn.naive_bayes import GaussianNB\n",
    "gnb = GaussianNB()\n",
    "\n",
    "y_hat = test_model(train, test, gnb, features,target, scores_on=False)\n",
    "test['Survived'] = y_hat\n",
    "test[['PassengerId', 'Survived']].to_csv('./gnb_sol.csv')"
   ]
  },
  {
   "cell_type": "code",
   "execution_count": 211,
   "metadata": {},
   "outputs": [],
   "source": [
    "# SVM\n",
    "from sklearn.svm import SVC\n",
    "svm = SVC()\n",
    "test_model(train, test, svm, features, target, scores_on=False)\n",
    "\n",
    "test['Survived'] = y_hat\n",
    "test[['PassengerId', 'Survived']].to_csv('./svc_sol.csv')"
   ]
  },
  {
   "cell_type": "code",
   "execution_count": null,
   "metadata": {},
   "outputs": [],
   "source": []
  },
  {
   "cell_type": "code",
   "execution_count": null,
   "metadata": {},
   "outputs": [],
   "source": []
  }
 ],
 "metadata": {
  "kernelspec": {
   "display_name": "Python 3",
   "language": "python",
   "name": "python3"
  },
  "language_info": {
   "codemirror_mode": {
    "name": "ipython",
    "version": 3
   },
   "file_extension": ".py",
   "mimetype": "text/x-python",
   "name": "python",
   "nbconvert_exporter": "python",
   "pygments_lexer": "ipython3",
   "version": "3.8.3"
  }
 },
 "nbformat": 4,
 "nbformat_minor": 4
}
