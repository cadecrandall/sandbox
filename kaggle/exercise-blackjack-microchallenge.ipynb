{
 "cells": [
  {
   "cell_type": "markdown",
   "metadata": {},
   "source": [
    "**This notebook is an exercise in the [Microchallenges](https://www.kaggle.com/learn/microchallenges) course.  You can reference the tutorial at [this link](https://www.kaggle.com/alexisbcook/blackjack-microchallenge).**\n",
    "\n",
    "---\n"
   ]
  },
  {
   "cell_type": "markdown",
   "metadata": {
    "_cell_guid": "79c7e3d0-c299-4dcb-8224-4455121ee9b0",
    "_uuid": "d629ff2d2480ee46fbb7e2d37f6b5fab8052498a",
    "collapsed": true
   },
   "source": [
    "# Blackjack Rules\n",
    "\n",
    "We'll use a slightly simplified version of blackjack (aka twenty-one). In this version, there is one player (who you'll control) and a dealer. Play proceeds as follows:\n",
    "\n",
    "- The player is dealt two face-up cards. The dealer is dealt one face-up card.\n",
    "- The player may ask to be dealt another card ('hit') as many times as they wish. If the sum of their cards exceeds 21, they lose the round immediately.\n",
    "- The dealer then deals additional cards to himself until either:\n",
    "    - The sum of the dealer's cards exceeds 21, in which case the player wins the round, or\n",
    "    - The sum of the dealer's cards is greater than or equal to 17. If the player's total is greater than the dealer's, the player wins. Otherwise, the dealer wins (even in case of a tie).\n",
    "\n",
    "When calculating the sum of cards, Jack, Queen, and King count for 10. Aces can count as 1 or 11. (When referring to a player's \"total\" above, we mean the largest total that can be made without exceeding 21. So A+8 = 19, A+8+8 = 17.)\n",
    "\n",
    "# The Blackjack Player\n",
    "You'll write a function representing the player's decision-making strategy. Here is a simple (though unintelligent) example.\n",
    "\n",
    "**Run this code cell** so you can see simulation results below using the logic of never taking a new card."
   ]
  },
  {
   "cell_type": "code",
   "execution_count": 1,
   "metadata": {
    "_uuid": "e8c2c9a32840b7b7f26afd8a09152bca1f32eef5"
   },
   "outputs": [],
   "source": [
    "def should_hit(player_total, dealer_card_val, player_aces):\n",
    "    \"\"\"Return True if the player should hit (request another card) given the current game\n",
    "    state, or False if the player should stay. player_aces is the number of aces the player has.\n",
    "    \"\"\"\n",
    "    return False"
   ]
  },
  {
   "cell_type": "markdown",
   "metadata": {
    "_uuid": "8a46be7481de83b0f0f5d8c8a80f96708acfe673"
   },
   "source": [
    "We'll simulate games between your player agent and our own dealer agent by calling your function. So it must use the name `should_hit`."
   ]
  },
  {
   "cell_type": "markdown",
   "metadata": {
    "_uuid": "324b624d17b3a51263115128e5dd87e6be621198"
   },
   "source": [
    "# The Blackjack Simulator\n",
    "\n",
    "Run the cell below to set up our simulator environment:"
   ]
  },
  {
   "cell_type": "code",
   "execution_count": 2,
   "metadata": {
    "_uuid": "1ed70efd9e03b72c335511ffb39254cc4225b9cf"
   },
   "outputs": [
    {
     "ename": "ModuleNotFoundError",
     "evalue": "No module named 'learntools'",
     "output_type": "error",
     "traceback": [
      "\u001b[0;31m---------------------------------------------------------------------------\u001b[0m",
      "\u001b[0;31mModuleNotFoundError\u001b[0m                       Traceback (most recent call last)",
      "\u001b[0;32m<ipython-input-2-a0d49ac6524d>\u001b[0m in \u001b[0;36m<module>\u001b[0;34m\u001b[0m\n\u001b[1;32m      1\u001b[0m \u001b[0;31m# SETUP. You don't need to worry for now about what this code does or how it works.\u001b[0m\u001b[0;34m\u001b[0m\u001b[0;34m\u001b[0m\u001b[0;34m\u001b[0m\u001b[0m\n\u001b[1;32m      2\u001b[0m \u001b[0;31m# If you're curious about the code, it's available under an open source license at https://github.com/Kaggle/learntools/\u001b[0m\u001b[0;34m\u001b[0m\u001b[0;34m\u001b[0m\u001b[0;34m\u001b[0m\u001b[0m\n\u001b[0;32m----> 3\u001b[0;31m \u001b[0;32mfrom\u001b[0m \u001b[0mlearntools\u001b[0m\u001b[0;34m.\u001b[0m\u001b[0mcore\u001b[0m \u001b[0;32mimport\u001b[0m \u001b[0mbinder\u001b[0m\u001b[0;34m;\u001b[0m \u001b[0mbinder\u001b[0m\u001b[0;34m.\u001b[0m\u001b[0mbind\u001b[0m\u001b[0;34m(\u001b[0m\u001b[0mglobals\u001b[0m\u001b[0;34m(\u001b[0m\u001b[0;34m)\u001b[0m\u001b[0;34m)\u001b[0m\u001b[0;34m\u001b[0m\u001b[0;34m\u001b[0m\u001b[0m\n\u001b[0m\u001b[1;32m      4\u001b[0m \u001b[0;32mfrom\u001b[0m \u001b[0mlearntools\u001b[0m\u001b[0;34m.\u001b[0m\u001b[0mpython\u001b[0m\u001b[0;34m.\u001b[0m\u001b[0mex3\u001b[0m \u001b[0;32mimport\u001b[0m \u001b[0mq7\u001b[0m \u001b[0;32mas\u001b[0m \u001b[0mblackjack\u001b[0m\u001b[0;34m\u001b[0m\u001b[0;34m\u001b[0m\u001b[0m\n\u001b[1;32m      5\u001b[0m \u001b[0;31m# Returns a message \"Sorry, no auto-checking available for this question.\" (You can ignore.)\u001b[0m\u001b[0;34m\u001b[0m\u001b[0;34m\u001b[0m\u001b[0;34m\u001b[0m\u001b[0m\n",
      "\u001b[0;31mModuleNotFoundError\u001b[0m: No module named 'learntools'"
     ]
    }
   ],
   "source": [
    "# SETUP. You don't need to worry for now about what this code does or how it works. \n",
    "# If you're curious about the code, it's available under an open source license at https://github.com/Kaggle/learntools/\n",
    "from learntools.core import binder; binder.bind(globals())\n",
    "from learntools.python.ex3 import q7 as blackjack\n",
    "# Returns a message \"Sorry, no auto-checking available for this question.\" (You can ignore.)\n",
    "blackjack.check()\n",
    "print('Setup complete.')"
   ]
  },
  {
   "cell_type": "code",
   "execution_count": 3,
   "metadata": {},
   "outputs": [
    {
     "name": "stdout",
     "output_type": "stream",
     "text": [
      "\u001b[31mERROR: Could not find a version that satisfies the requirement learntools (from versions: none)\u001b[0m\r\n",
      "\u001b[31mERROR: No matching distribution found for learntools\u001b[0m\r\n"
     ]
    }
   ],
   "source": [
    "!pip install learntools"
   ]
  },
  {
   "cell_type": "markdown",
   "metadata": {
    "_uuid": "c9825893bcf078af81c583f78d7777c0fb9afb01"
   },
   "source": [
    "Once you have run the set-up code, you can see the action for a single game of blackjack with the following line:"
   ]
  },
  {
   "cell_type": "code",
   "execution_count": null,
   "metadata": {
    "_uuid": "4fcb46a7f0a82bf7967133b00d7d555b7ab9659d"
   },
   "outputs": [],
   "source": [
    "blackjack.simulate_one_game()"
   ]
  },
  {
   "cell_type": "markdown",
   "metadata": {
    "_uuid": "7a2869469b69804cc2b4e891f283d7372a864bee"
   },
   "source": [
    "You can see how your player does in a sample of 50,000 games with the following command:"
   ]
  },
  {
   "cell_type": "code",
   "execution_count": null,
   "metadata": {
    "_uuid": "d71071f026e25f560b549808632cfde91921c321"
   },
   "outputs": [],
   "source": [
    "blackjack.simulate(n_games=50000)"
   ]
  },
  {
   "cell_type": "markdown",
   "metadata": {
    "_uuid": "af2a491582cf71693467fd9fe3d8f4de48f8e7a8"
   },
   "source": [
    "# Your Turn\n",
    "\n",
    "Write your own `should_hit` function in the cell below. Then run the cell and see how your agent did in repeated play."
   ]
  },
  {
   "cell_type": "code",
   "execution_count": null,
   "metadata": {
    "_uuid": "4f46c2dc095209845982a5827be50f5725329f51"
   },
   "outputs": [],
   "source": [
    "def should_hit(player_total, dealer_card_val, player_aces):\n",
    "    \"\"\"Return True if the player should hit (request another card) given the current game\n",
    "    state, or False if the player should stay. player_aces is the number of aces the player has.\n",
    "    \"\"\"\n",
    "    return False\n",
    "\n",
    "blackjack.simulate(n_games=50000)"
   ]
  },
  {
   "cell_type": "markdown",
   "metadata": {
    "_uuid": "29af50cbbf2e28ddc6c308f4ea62faac4992ebd0"
   },
   "source": [
    "---\n",
    "**[Microchallenges Home Page](https://www.kaggle.com/learn/microchallenges)**\n",
    "\n",
    "\n",
    "*How high can you get your win rate?  Visit the [Learn Discussion forum](https://www.kaggle.com/learn-forum/58735) to discuss your results.*"
   ]
  }
 ],
 "metadata": {
  "kernelspec": {
   "display_name": "Python 3",
   "language": "python",
   "name": "python3"
  },
  "language_info": {
   "codemirror_mode": {
    "name": "ipython",
    "version": 3
   },
   "file_extension": ".py",
   "mimetype": "text/x-python",
   "name": "python",
   "nbconvert_exporter": "python",
   "pygments_lexer": "ipython3",
   "version": "3.8.3"
  }
 },
 "nbformat": 4,
 "nbformat_minor": 4
}
