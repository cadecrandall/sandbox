{
 "cells": [
  {
   "cell_type": "markdown",
   "metadata": {},
   "source": [
    "https://fivethirtyeight.com/features/can-you-cross-like-a-boss/"
   ]
  },
  {
   "cell_type": "code",
   "execution_count": 5,
   "metadata": {},
   "outputs": [
    {
     "data": {
      "text/html": [
       "<div>\n",
       "<style scoped>\n",
       "    .dataframe tbody tr th:only-of-type {\n",
       "        vertical-align: middle;\n",
       "    }\n",
       "\n",
       "    .dataframe tbody tr th {\n",
       "        vertical-align: top;\n",
       "    }\n",
       "\n",
       "    .dataframe thead th {\n",
       "        text-align: right;\n",
       "    }\n",
       "</style>\n",
       "<table border=\"1\" class=\"dataframe\">\n",
       "  <thead>\n",
       "    <tr style=\"text-align: right;\">\n",
       "      <th></th>\n",
       "      <th>6615</th>\n",
       "      <th>15552</th>\n",
       "      <th>420</th>\n",
       "    </tr>\n",
       "  </thead>\n",
       "  <tbody>\n",
       "    <tr>\n",
       "      <th>210</th>\n",
       "      <td>0</td>\n",
       "      <td>0</td>\n",
       "      <td>0</td>\n",
       "    </tr>\n",
       "    <tr>\n",
       "      <th>144</th>\n",
       "      <td>0</td>\n",
       "      <td>0</td>\n",
       "      <td>0</td>\n",
       "    </tr>\n",
       "    <tr>\n",
       "      <th>54</th>\n",
       "      <td>0</td>\n",
       "      <td>0</td>\n",
       "      <td>0</td>\n",
       "    </tr>\n",
       "    <tr>\n",
       "      <th>135</th>\n",
       "      <td>0</td>\n",
       "      <td>0</td>\n",
       "      <td>0</td>\n",
       "    </tr>\n",
       "    <tr>\n",
       "      <th>4</th>\n",
       "      <td>0</td>\n",
       "      <td>0</td>\n",
       "      <td>0</td>\n",
       "    </tr>\n",
       "    <tr>\n",
       "      <th>49</th>\n",
       "      <td>0</td>\n",
       "      <td>0</td>\n",
       "      <td>0</td>\n",
       "    </tr>\n",
       "  </tbody>\n",
       "</table>\n",
       "</div>"
      ],
      "text/plain": [
       "     6615   15552  420  \n",
       "210      0      0      0\n",
       "144      0      0      0\n",
       "54       0      0      0\n",
       "135      0      0      0\n",
       "4        0      0      0\n",
       "49       0      0      0"
      ]
     },
     "execution_count": 5,
     "metadata": {},
     "output_type": "execute_result"
    }
   ],
   "source": [
    "import pandas as pd\n",
    "import numpy as np\n",
    "from sympy import primefactors\n",
    "\n",
    "\n",
    "def inner_product(number):\n",
    "    \"\"\"Calculates the product of the integers in an n-digit number\"\"\"\n",
    "    product = 1\n",
    "    while number > 0:\n",
    "        product *= (number % 10)\n",
    "        number //= 10\n",
    "\n",
    "    return product\n",
    "\n",
    "\n",
    "df = pd.DataFrame([ [0, 0, 0] for i in range(6)],\n",
    "                  index=[210, 144, 54, 135, 4, 49],\n",
    "                  columns=[6615, 15552, 420])\n",
    "\n",
    "df"
   ]
  },
  {
   "cell_type": "code",
   "execution_count": 75,
   "metadata": {},
   "outputs": [
    {
     "data": {
      "text/plain": [
       "{(2, 7, 8), (4, 4, 7)}"
      ]
     },
     "execution_count": 75,
     "metadata": {},
     "output_type": "execute_result"
    }
   ],
   "source": [
    "import math\n",
    "\n",
    "num = 220\n",
    "\n",
    "def triple_factor(num):\n",
    "    \"\"\" Returns an array of tuples of digits that multiply to num\"\"\"\n",
    "    \"\"\"\n",
    "    Examples: \n",
    "    294 -> 6×7×7.\n",
    "    216 -> 3×8×9, 4×6×9 or 6×6×6.\n",
    "    135 -> 3×5×9.\n",
    "    98 -> 2×7×7.\n",
    "    112 -> 2×7×8 or 4×4×7.\n",
    "    84 -> 2×6×7 or 3×4×7.\n",
    "    245 -> 5×7×7.\n",
    "    40 -> 1×5×8 or 2×4×5.\n",
    "    \"\"\"\n",
    "    factors = set()\n",
    "    for i in range(1, 10):\n",
    "        if num % i == 0:\n",
    "            second_factor = num // i\n",
    "            for j in range(1, 10):\n",
    "                if second_factor % j == 0 and second_factor // j < 10 and i * j * second_factor // j == num:\n",
    "                    factors.add(tuple(sorted([i, second_factor // j, j])))\n",
    "    return factors\n",
    "            \n",
    "        \n",
    "triple_factor(112)"
   ]
  },
  {
   "cell_type": "code",
   "execution_count": 76,
   "metadata": {},
   "outputs": [
    {
     "name": "stdout",
     "output_type": "stream",
     "text": [
      "{(5, 6, 7)}\n",
      "{(4, 6, 6), (2, 8, 9), (3, 6, 8), (4, 4, 9)}\n",
      "{(1, 6, 9), (3, 3, 6), (2, 3, 9)}\n",
      "{(3, 5, 9)}\n",
      "{(1, 1, 4), (1, 2, 2)}\n",
      "{(1, 7, 7)}\n"
     ]
    }
   ],
   "source": [
    "for i in df.index:\n",
    "    print(triple_factor(i))"
   ]
  },
  {
   "cell_type": "code",
   "execution_count": 77,
   "metadata": {},
   "outputs": [
    {
     "name": "stdout",
     "output_type": "stream",
     "text": [
      "[3, 5, 7]\n",
      "[2, 3]\n",
      "[2, 3, 5, 7]\n"
     ]
    }
   ],
   "source": [
    "for i in df.columns:\n",
    "    print(primefactors(i))"
   ]
  },
  {
   "cell_type": "code",
   "execution_count": 79,
   "metadata": {},
   "outputs": [
    {
     "data": {
      "text/plain": [
       "15552"
      ]
     },
     "execution_count": 79,
     "metadata": {},
     "output_type": "execute_result"
    }
   ],
   "source": [
    "3**5 * 2**6"
   ]
  },
  {
   "cell_type": "code",
   "execution_count": 80,
   "metadata": {},
   "outputs": [
    {
     "data": {
      "text/plain": [
       "60.0"
      ]
     },
     "execution_count": 80,
     "metadata": {},
     "output_type": "execute_result"
    }
   ],
   "source": [
    "420/7"
   ]
  },
  {
   "cell_type": "code",
   "execution_count": 81,
   "metadata": {},
   "outputs": [
    {
     "data": {
      "text/plain": [
       "12.0"
      ]
     },
     "execution_count": 81,
     "metadata": {},
     "output_type": "execute_result"
    }
   ],
   "source": [
    "60/5"
   ]
  },
  {
   "cell_type": "code",
   "execution_count": 94,
   "metadata": {},
   "outputs": [
    {
     "data": {
      "text/plain": [
       "False"
      ]
     },
     "execution_count": 94,
     "metadata": {},
     "output_type": "execute_result"
    }
   ],
   "source": [
    "def check_board(df):\n",
    "    rows = list(df.prod(axis=1))\n",
    "    cols = list(df.prod(axis=0))\n",
    "    \n",
    "    for i, col in enumerate(df.columns):\n",
    "        if cols[i] != col:\n",
    "            return False\n",
    "    \n",
    "    for i, row in enumerate(df.index):\n",
    "        if rows[i] != row:\n",
    "            return False\n",
    "        \n",
    "    return True\n",
    "        \n",
    "check_board(df)"
   ]
  },
  {
   "cell_type": "code",
   "execution_count": 96,
   "metadata": {},
   "outputs": [
    {
     "data": {
      "text/html": [
       "<div>\n",
       "<style scoped>\n",
       "    .dataframe tbody tr th:only-of-type {\n",
       "        vertical-align: middle;\n",
       "    }\n",
       "\n",
       "    .dataframe tbody tr th {\n",
       "        vertical-align: top;\n",
       "    }\n",
       "\n",
       "    .dataframe thead th {\n",
       "        text-align: right;\n",
       "    }\n",
       "</style>\n",
       "<table border=\"1\" class=\"dataframe\">\n",
       "  <thead>\n",
       "    <tr style=\"text-align: right;\">\n",
       "      <th></th>\n",
       "      <th>6615</th>\n",
       "      <th>15552</th>\n",
       "      <th>420</th>\n",
       "    </tr>\n",
       "  </thead>\n",
       "  <tbody>\n",
       "    <tr>\n",
       "      <th>210</th>\n",
       "      <td>7</td>\n",
       "      <td>-1</td>\n",
       "      <td>-1</td>\n",
       "    </tr>\n",
       "    <tr>\n",
       "      <th>144</th>\n",
       "      <td>-1</td>\n",
       "      <td>-1</td>\n",
       "      <td>-1</td>\n",
       "    </tr>\n",
       "    <tr>\n",
       "      <th>54</th>\n",
       "      <td>-1</td>\n",
       "      <td>-1</td>\n",
       "      <td>-1</td>\n",
       "    </tr>\n",
       "    <tr>\n",
       "      <th>135</th>\n",
       "      <td>-1</td>\n",
       "      <td>-1</td>\n",
       "      <td>-1</td>\n",
       "    </tr>\n",
       "    <tr>\n",
       "      <th>4</th>\n",
       "      <td>1</td>\n",
       "      <td>-1</td>\n",
       "      <td>-1</td>\n",
       "    </tr>\n",
       "    <tr>\n",
       "      <th>49</th>\n",
       "      <td>7</td>\n",
       "      <td>1</td>\n",
       "      <td>7</td>\n",
       "    </tr>\n",
       "  </tbody>\n",
       "</table>\n",
       "</div>"
      ],
      "text/plain": [
       "     6615   15552  420  \n",
       "210      7     -1     -1\n",
       "144     -1     -1     -1\n",
       "54      -1     -1     -1\n",
       "135     -1     -1     -1\n",
       "4        1     -1     -1\n",
       "49       7      1      7"
      ]
     },
     "execution_count": 96,
     "metadata": {},
     "output_type": "execute_result"
    }
   ],
   "source": [
    "df2 = pd.DataFrame([[7, -1, -1], \n",
    "                    [-1, -1, -1],\n",
    "                    [-1, -1, -1],\n",
    "                    [-1, -1, -1],\n",
    "                    [1, -1, -1],\n",
    "                    [7, 1, 7]],\n",
    "                  index=[210, 144, 54, 135, 4, 49],\n",
    "                  columns=[6615, 15552, 420])\n",
    "df2"
   ]
  },
  {
   "cell_type": "code",
   "execution_count": 98,
   "metadata": {},
   "outputs": [
    {
     "data": {
      "text/plain": [
       "3.0"
      ]
     },
     "execution_count": 98,
     "metadata": {},
     "output_type": "execute_result"
    }
   ],
   "source": [
    "6615 / 49/5/9"
   ]
  },
  {
   "cell_type": "code",
   "execution_count": 99,
   "metadata": {},
   "outputs": [],
   "source": [
    "df3 =  pd.DataFrame([[7, 6, 5], \n",
    "                    [9, 8, 2],\n",
    "                    [3, 9, 2],\n",
    "                    [5, 9, 3],\n",
    "                    [1, 4, 1],\n",
    "                    [7, 1, 7]],\n",
    "                  index=[210, 144, 54, 135, 4, 49],\n",
    "                  columns=[6615, 15552, 420])"
   ]
  },
  {
   "cell_type": "code",
   "execution_count": 100,
   "metadata": {},
   "outputs": [
    {
     "data": {
      "text/plain": [
       "True"
      ]
     },
     "execution_count": 100,
     "metadata": {},
     "output_type": "execute_result"
    }
   ],
   "source": [
    "check_board(df3)"
   ]
  },
  {
   "cell_type": "code",
   "execution_count": null,
   "metadata": {},
   "outputs": [],
   "source": []
  }
 ],
 "metadata": {
  "kernelspec": {
   "display_name": "Python 3",
   "language": "python",
   "name": "python3"
  },
  "language_info": {
   "codemirror_mode": {
    "name": "ipython",
    "version": 3
   },
   "file_extension": ".py",
   "mimetype": "text/x-python",
   "name": "python",
   "nbconvert_exporter": "python",
   "pygments_lexer": "ipython3",
   "version": "3.8.3"
  }
 },
 "nbformat": 4,
 "nbformat_minor": 4
}
